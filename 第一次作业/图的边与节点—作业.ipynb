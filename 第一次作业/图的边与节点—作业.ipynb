{
 "cells": [
  {
   "cell_type": "code",
   "execution_count": 1,
   "metadata": {},
   "outputs": [],
   "source": [
    "#4阶张量img其shape=[10, 28, 28, 3]，代表10张28*28像素的3通道RGB图像"
   ]
  },
  {
   "cell_type": "code",
   "execution_count": 3,
   "metadata": {},
   "outputs": [],
   "source": [
    "#1.如何利用索引取出第2张图片\n",
    "img[1]"
   ]
  },
  {
   "cell_type": "code",
   "execution_count": 4,
   "metadata": {},
   "outputs": [],
   "source": [
    "#2.如何利用切片取出第2张图片\n",
    "tf.slice(img,[1,0,0,0],[1,28,28,3])"
   ]
  },
  {
   "cell_type": "code",
   "execution_count": 13,
   "metadata": {},
   "outputs": [],
   "source": [
    "#3.使用切片与使用索引取出的一张图片有何不同\n",
    "#切片取出的阶数没有变化，而索引改变了"
   ]
  },
  {
   "cell_type": "code",
   "execution_count": 6,
   "metadata": {},
   "outputs": [],
   "source": [
    "#4.如何取出其中的第1、3、5、7张图片\n",
    "#索引法\n",
    "for i = 1 in range(3,7)\n",
    "    tf.slice(img,[i,0,0,0],[i,28,28,3])\n",
    "    i=i+2"
   ]
  },
  {
   "cell_type": "code",
   "execution_count": 7,
   "metadata": {},
   "outputs": [],
   "source": [
    "#5.如何取出第6-8张（包括6不包括8）图片中中心区域（14*14）的部分\n",
    "tf.slice(img,[5,0,0,0],[6,28,28,3])"
   ]
  },
  {
   "cell_type": "code",
   "execution_count": 8,
   "metadata": {},
   "outputs": [],
   "source": [
    "#6如何将图片根据通道拆分成三份单通道图片\n",
    "split1,split2,split3=tf.split(img,[1,1,1],3)"
   ]
  },
  {
   "cell_type": "code",
   "execution_count": 9,
   "metadata": {},
   "outputs": [],
   "source": [
    "#7.写出tf.shape(img)返回的张量的阶数以及shape属性的值\n",
    "tf.shape返回的是一阶张量，其shape属性的值为[10,28,28,3]"
   ]
  },
  {
   "cell_type": "code",
   "execution_count": null,
   "metadata": {},
   "outputs": [],
   "source": []
  }
 ],
 "metadata": {
  "kernelspec": {
   "display_name": "Python 3",
   "language": "python",
   "name": "python3"
  },
  "language_info": {
   "codemirror_mode": {
    "name": "ipython",
    "version": 3
   },
   "file_extension": ".py",
   "mimetype": "text/x-python",
   "name": "python",
   "nbconvert_exporter": "python",
   "pygments_lexer": "ipython3",
   "version": "3.6.4"
  }
 },
 "nbformat": 4,
 "nbformat_minor": 2
}
