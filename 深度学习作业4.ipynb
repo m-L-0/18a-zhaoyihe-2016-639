{
 "cells": [
  {
   "cell_type": "markdown",
   "metadata": {},
   "source": [
    "mnist数据分类"
   ]
  },
  {
   "cell_type": "markdown",
   "metadata": {},
   "source": [
    "## 作业\n",
    "\n",
    "1. 浮现上述代码。\n",
    "2. 计算模型参数。\n",
    "3. 使用不同大小的批次进行实验，观察模型收敛速度与收敛平稳性。\n",
    "4. 使用不同大小的学习率进行实验，观察模型收敛速度与收敛平稳性。\n",
    "5. 使用不同的激活函数进行实验，观察模型收敛速度与收敛平性能。\n",
    "6. 尝试使用不同的参数初始化方法（如使用不同的正态分布、均匀分布、固定值等方法），观察模型收敛速度。\n",
    "7. 思考如何改进模型以使得模型性能增强。\n",
    "8. 思考如何给模型添加新的隐藏层并进行实验。\n",
    "\n",
    "*说明：需对上述问题进行代码实现与结论总结*"
   ]
  },
  {
   "cell_type": "code",
   "execution_count": 2,
   "metadata": {},
   "outputs": [],
   "source": [
    "%matplotlib inline\n",
    "\n",
    "import numpy as np\n",
    "from PIL import Image\n",
    "from matplotlib import pyplot as plt\n",
    "\n",
    "import tensorflow as tf\n",
    "from tensorflow.examples.tutorials.mnist import input_data"
   ]
  },
  {
   "cell_type": "code",
   "execution_count": 4,
   "metadata": {},
   "outputs": [
    {
     "name": "stdout",
     "output_type": "stream",
     "text": [
      "Extracting MNIST_data\\train-images-idx3-ubyte.gz\n",
      "Extracting MNIST_data\\train-labels-idx1-ubyte.gz\n",
      "Extracting MNIST_data\\t10k-images-idx3-ubyte.gz\n",
      "Extracting MNIST_data\\t10k-labels-idx1-ubyte.gz\n"
     ]
    }
   ],
   "source": [
    "# 下载MNIST数据集并生成DataSet对象\n",
    "# 使用OneHot编码处理标记\n",
    "mnist = input_data.read_data_sets('MNIST_data',one_hot=True)"
   ]
  },
  {
   "cell_type": "code",
   "execution_count": 5,
   "metadata": {},
   "outputs": [
    {
     "data": {
      "text/plain": [
       "(55000, 784)"
      ]
     },
     "execution_count": 5,
     "metadata": {},
     "output_type": "execute_result"
    }
   ],
   "source": [
    "# 训练集图片矩阵，代表55000张图片，每张图片为一个向量，其长度为784\n",
    "mnist.train.images.shape"
   ]
  },
  {
   "cell_type": "code",
   "execution_count": 6,
   "metadata": {},
   "outputs": [
    {
     "data": {
      "text/plain": [
       "(55000, 10)"
      ]
     },
     "execution_count": 6,
     "metadata": {},
     "output_type": "execute_result"
    }
   ],
   "source": [
    "# 训练集标记矩阵，代表55000张图片的标记，每张图片为一个10维的独热编码向量\n",
    "mnist.train.labels.shape"
   ]
  },
  {
   "cell_type": "code",
   "execution_count": 9,
   "metadata": {},
   "outputs": [
    {
     "data": {
      "text/plain": [
       "<matplotlib.image.AxesImage at 0x25cef058cf8>"
      ]
     },
     "execution_count": 9,
     "metadata": {},
     "output_type": "execute_result"
    },
    {
     "data": {
      "image/png": "[encoded data removed]",
      "text/plain": [
       "<Figure size 432x288 with 1 Axes>"
      ]
     },
     "metadata": {},
     "output_type": "display_data"
    }
   ],
   "source": [
    "plt.imshow(Image.fromarray(mnist.train.images[5].reshape(28,28)))"
   ]
  },
  {
   "cell_type": "code",
   "execution_count": 10,
   "metadata": {},
   "outputs": [
    {
     "data": {
      "text/plain": [
       "array([0., 0., 0., 0., 0., 0., 0., 0., 1., 0.])"
      ]
     },
     "execution_count": 10,
     "metadata": {},
     "output_type": "execute_result"
    }
   ],
   "source": [
    "mnist.train.labels[5]"
   ]
  },
  {
   "cell_type": "code",
   "execution_count": 15,
   "metadata": {},
   "outputs": [],
   "source": [
    "with tf.Graph().as_default() as g:\n",
    "    #输入、标记占位符\n",
    "    inputs = tf.placeholder(shape=[None,784],dtype=tf.float32)\n",
    "    labels = tf.placeholder(shape=[None,10],dtype=tf.float32)\n",
    "    #创建128个隐藏层神经元参数\n",
    "    hidden_weight = tf.Variable(tf.random_normal([784,128]),name='hidden_weight')\n",
    "    hidden_bias = tf.Variable(tf.zeros([128,]),name='hidden_bias')\n",
    "    #隐藏层前向传播\n",
    "    hidden_output = tf.nn.relu(tf.matmul(inputs,hidden_weight)+hidden_bias)\n",
    "    #创建输出层10个神经元参数\n",
    "    output_weight = tf.Variable(tf.random_normal([128,10]),name='out_weight')\n",
    "    output_bias = tf.Variable(tf.zeros([10,]),name='output_bias')\n",
    "    #输出层前向传播\n",
    "    logits = tf.matmul(hidden_output,output_weight) + output_bias\n",
    "    output = tf.nn.softmax(logits)\n",
    "    \n",
    "    #代价函数\n",
    "    loss = tf.reduce_mean(-1 * tf.reduce_sum(labels * tf.log(output + 1e-7),axis=1))\n",
    "    #正确率\n",
    "    acc = tf.reduce_mean(\n",
    "        tf.cast(tf.equal(tf.argmax(labels,axis=1),tf.argmax(output,axis=1)),\n",
    "                tf.float32))"
   ]
  },
  {
   "cell_type": "code",
   "execution_count": 19,
   "metadata": {},
   "outputs": [
    {
     "name": "stdout",
     "output_type": "stream",
     "text": [
      "step     0, loss 13.0843, acc 0.1006\n",
      "step   500, loss 9.1729, acc 0.3475\n",
      "step  1000, loss 8.2782, acc 0.4058\n",
      "step  1500, loss 8.8394, acc 0.4290\n",
      "step  2000, loss 9.6609, acc 0.4910\n",
      "step  2500, loss 5.5406, acc 0.5190\n",
      "step  3000, loss 6.5173, acc 0.5245\n",
      "step  3500, loss 9.0664, acc 0.5314\n",
      "step  4000, loss 7.2772, acc 0.5350\n",
      "step  4500, loss 7.7531, acc 0.5378\n",
      "step  5000, loss 5.7184, acc 0.5421\n",
      "step  5500, loss 5.5406, acc 0.5435\n",
      "step  6000, loss 8.0590, acc 0.5463\n",
      "step  6500, loss 6.5598, acc 0.5477\n",
      "step  7000, loss 7.6152, acc 0.5492\n",
      "step  7500, loss 5.5406, acc 0.5504\n",
      "step  8000, loss 6.6409, acc 0.5663\n",
      "step  8500, loss 5.0369, acc 0.6061\n",
      "step  9000, loss 6.3143, acc 0.6226\n",
      "step  9500, loss 5.8571, acc 0.6289\n",
      "step 10000, loss 6.8543, acc 0.6315\n",
      "step 10500, loss 5.2193, acc 0.6353\n",
      "step 11000, loss 5.1092, acc 0.6373\n",
      "step 11500, loss 5.0692, acc 0.6399\n",
      "step 12000, loss 4.0387, acc 0.6403\n",
      "step 12500, loss 6.7390, acc 0.6428\n",
      "step 13000, loss 3.6152, acc 0.6393\n",
      "step 13500, loss 5.7998, acc 0.6405\n",
      "step 14000, loss 4.5333, acc 0.6433\n",
      "step 14500, loss 3.3328, acc 0.6438\n",
      "step 15000, loss 7.3281, acc 0.6436\n",
      "step 15500, loss 7.5531, acc 0.6444\n",
      "step 16000, loss 6.0443, acc 0.6443\n",
      "step 16500, loss 6.7249, acc 0.6480\n",
      "step 17000, loss 4.9814, acc 0.6432\n",
      "step 17500, loss 3.5258, acc 0.6460\n",
      "step 18000, loss 4.8521, acc 0.6479\n",
      "step 18500, loss 3.5594, acc 0.6477\n",
      "step 19000, loss 5.0369, acc 0.6478\n",
      "step 19500, loss 7.0447, acc 0.6462\n"
     ]
    }
   ],
   "source": [
    "with tf.Session(graph=g) as sess:\n",
    "    #定义梯度下降法优化器\n",
    "    optim  = tf.train.GradientDescentOptimizer(learning_rate=0.01)\n",
    "    train_op = optim.minimize(loss)\n",
    "    sess.run(tf.global_variables_initializer())\n",
    "    \n",
    "    #训练模型\n",
    "    for step in range(20000):\n",
    "        batch_images, batch_labels = mnist.train.next_batch(32)\n",
    "        res_loss,_ = sess.run([loss,train_op],feed_dict={\n",
    "            inputs:batch_images,\n",
    "            labels:batch_labels\n",
    "        })\n",
    "        #输出代价并验证模型\n",
    "        if step % 500 == 0:\n",
    "            accs = []\n",
    "            for test_step in range(10000 //32):\n",
    "                batch_images,batch_labels = mnist.test.next_batch(32)\n",
    "                res_acc = sess.run(acc,feed_dict={\n",
    "                    inputs:batch_images,\n",
    "                    labels:batch_labels\n",
    "                })\n",
    "                accs.append(res_acc)\n",
    "            accs = np.mean(accs)\n",
    "            print('step %5d, loss %2.4f, acc %.4f' % (step,res_loss,accs))"
   ]
  },
  {
   "cell_type": "code",
   "execution_count": null,
   "metadata": {},
   "outputs": [],
   "source": []
  }
 ],
 "metadata": {
  "kernelspec": {
   "display_name": "Python 3",
   "language": "python",
   "name": "python3"
  },
  "language_info": {
   "codemirror_mode": {
    "name": "ipython",
    "version": 3
   },
   "file_extension": ".py",
   "mimetype": "text/x-python",
   "name": "python",
   "nbconvert_exporter": "python",
   "pygments_lexer": "ipython3",
   "version": "3.6.4"
  }
 },
 "nbformat": 4,
 "nbformat_minor": 2
}
