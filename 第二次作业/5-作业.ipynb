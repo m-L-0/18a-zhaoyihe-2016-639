{
 "cells": [
  {
   "cell_type": "code",
   "execution_count": null,
   "metadata": {},
   "outputs": [],
   "source": [
    "name_scope及variable_scope的作用都是为了不传引用而访问跨代码区域变量的一种方式，\n",
    "其内部功能是在其代码块内显式创建的变量都会带上scope前缀,这一点它们几乎一样。\n",
    "而它们的差别是，\n",
    "在其作用域中获取变量，它们对 tf.get_variable() 函数的作用是一个会自动添加前缀，\n",
    "一个不会添加前缀。"
   ]
  },
  {
   "cell_type": "code",
   "execution_count": 1,
   "metadata": {},
   "outputs": [
    {
     "name": "stdout",
     "output_type": "stream",
     "text": [
      "0.3752924\n"
     ]
    }
   ],
   "source": [
    "import tensorflow as tf\n",
    "with tf.variable_scope('scope', reuse=None) as scope:\n",
    "    tf.get_variable('x', dtype=tf.float32, shape=[])\n",
    "    scope.reuse_variables()\n",
    "    x = tf.get_variable('x')\n",
    "    y = tf.nn.sigmoid(x)\n",
    "with tf.Session() as sess:\n",
    "    sess.run(tf.global_variables_initializer())\n",
    "    print(sess.run(y))"
   ]
  },
  {
   "cell_type": "code",
   "execution_count": null,
   "metadata": {},
   "outputs": [],
   "source": []
  }
 ],
 "metadata": {
  "kernelspec": {
   "display_name": "Python 3",
   "language": "python",
   "name": "python3"
  },
  "language_info": {
   "codemirror_mode": {
    "name": "ipython",
    "version": 3
   },
   "file_extension": ".py",
   "mimetype": "text/x-python",
   "name": "python",
   "nbconvert_exporter": "python",
   "pygments_lexer": "ipython3",
   "version": "3.5.2"
  }
 },
 "nbformat": 4,
 "nbformat_minor": 2
}
