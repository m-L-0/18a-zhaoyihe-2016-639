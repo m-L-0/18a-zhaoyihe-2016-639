{
 "cells": [
  {
   "cell_type": "code",
   "execution_count": 1,
   "metadata": {},
   "outputs": [],
   "source": [
    "import numpy as np\n",
    "import numpy.linalg as lianlg\n",
    "import matplotlib.pyplot as plt\n",
    "from sklearn.datasets import load_iris"
   ]
  },
  {
   "cell_type": "code",
   "execution_count": 2,
   "metadata": {},
   "outputs": [],
   "source": [
    "iris = load_iris()"
   ]
  },
  {
   "cell_type": "code",
   "execution_count": 3,
   "metadata": {},
   "outputs": [],
   "source": [
    "x = iris.data\n",
    "y = iris.target"
   ]
  },
  {
   "cell_type": "markdown",
   "metadata": {},
   "source": [
    "# 余弦相似度矩阵"
   ]
  },
  {
   "cell_type": "code",
   "execution_count": 4,
   "metadata": {},
   "outputs": [],
   "source": [
    "from sklearn.metrics.pairwise import cosine_similarity"
   ]
  },
  {
   "cell_type": "code",
   "execution_count": 5,
   "metadata": {},
   "outputs": [],
   "source": [
    "sim = cosine_similarity(x)+1"
   ]
  },
  {
   "cell_type": "code",
   "execution_count": 6,
   "metadata": {},
   "outputs": [],
   "source": [
    "for i in range(0,sim.shape[0]):\n",
    "    for j in range(0,sim.shape[1]):\n",
    "        if(sim[i,j]<1.997):\n",
    "            sim[i,j]=0\n",
    "        sim[i,i]=0"
   ]
  },
  {
   "cell_type": "code",
   "execution_count": 7,
   "metadata": {},
   "outputs": [],
   "source": [
    "import networkx as nx"
   ]
  },
  {
   "cell_type": "code",
   "execution_count": 8,
   "metadata": {},
   "outputs": [],
   "source": [
    "matrix = np.ndarray.tolist(sim)"
   ]
  },
  {
   "cell_type": "code",
   "execution_count": 9,
   "metadata": {},
   "outputs": [
    {
     "data": {
      "image/png": "[encoded data removed]",
      "text/plain": [
       "<matplotlib.figure.Figure at 0x1adab786940>"
      ]
     },
     "metadata": {},
     "output_type": "display_data"
    }
   ],
   "source": [
    "H = nx.Graph()\n",
    "for i in range(0,150):\n",
    "    for j in range(i,150):\n",
    "        if matrix[i][j]!=0:\n",
    "            H.add_edge(i,j)\n",
    "nx.draw(H,node_size=100)\n",
    "plt.show()"
   ]
  },
  {
   "cell_type": "markdown",
   "metadata": {},
   "source": [
    "# 度数矩阵"
   ]
  },
  {
   "cell_type": "code",
   "execution_count": 10,
   "metadata": {},
   "outputs": [],
   "source": [
    "d = np.diag(np.zeros(150))"
   ]
  },
  {
   "cell_type": "code",
   "execution_count": 11,
   "metadata": {},
   "outputs": [],
   "source": [
    "for i in range(150):\n",
    "    b=0\n",
    "    for j in range(150):\n",
    "         if(sim[i,j]!=0):\n",
    "                b=b+1\n",
    "    d[i,i]=b"
   ]
  },
  {
   "cell_type": "code",
   "execution_count": 12,
   "metadata": {},
   "outputs": [
    {
     "data": {
      "text/plain": [
       "array([[45.,  0.,  0., ...,  0.,  0.,  0.],\n",
       "       [ 0., 34.,  0., ...,  0.,  0.,  0.],\n",
       "       [ 0.,  0., 45., ...,  0.,  0.,  0.],\n",
       "       ...,\n",
       "       [ 0.,  0.,  0., ..., 62.,  0.,  0.],\n",
       "       [ 0.,  0.,  0., ...,  0., 31.,  0.],\n",
       "       [ 0.,  0.,  0., ...,  0.,  0., 52.]])"
      ]
     },
     "execution_count": 12,
     "metadata": {},
     "output_type": "execute_result"
    }
   ],
   "source": [
    "d"
   ]
  },
  {
   "cell_type": "markdown",
   "metadata": {},
   "source": [
    "# 标准化的拉普拉斯矩阵"
   ]
  },
  {
   "cell_type": "code",
   "execution_count": 13,
   "metadata": {},
   "outputs": [],
   "source": [
    "l = d-sim"
   ]
  },
  {
   "cell_type": "code",
   "execution_count": 14,
   "metadata": {},
   "outputs": [],
   "source": [
    "S = d"
   ]
  },
  {
   "cell_type": "code",
   "execution_count": 15,
   "metadata": {},
   "outputs": [],
   "source": [
    "for i in range(150):\n",
    "    S[i,i] = 1/(d[i,i]**(0.5))"
   ]
  },
  {
   "cell_type": "code",
   "execution_count": 16,
   "metadata": {},
   "outputs": [],
   "source": [
    "L = np.dot(np.dot(S,l),S)"
   ]
  },
  {
   "cell_type": "markdown",
   "metadata": {},
   "source": [
    "# 求拉普拉斯矩阵的特征值，特征向量（k个最小的特征值对应的特征向量），k为簇数"
   ]
  },
  {
   "cell_type": "code",
   "execution_count": 17,
   "metadata": {},
   "outputs": [],
   "source": [
    "from numpy import linalg as LA"
   ]
  },
  {
   "cell_type": "code",
   "execution_count": 18,
   "metadata": {},
   "outputs": [],
   "source": [
    "eig,feature=np.linalg.eig(L)"
   ]
  },
  {
   "cell_type": "code",
   "execution_count": 19,
   "metadata": {},
   "outputs": [],
   "source": [
    "indices = np.argsort(eig)[:3]"
   ]
  },
  {
   "cell_type": "code",
   "execution_count": 20,
   "metadata": {},
   "outputs": [],
   "source": [
    "from sklearn.preprocessing import normalize"
   ]
  },
  {
   "cell_type": "code",
   "execution_count": 21,
   "metadata": {},
   "outputs": [],
   "source": [
    "ksim = normalize(feature[:, indices])"
   ]
  },
  {
   "cell_type": "markdown",
   "metadata": {},
   "source": [
    "# k-means聚类的Python实现"
   ]
  },
  {
   "cell_type": "code",
   "execution_count": 22,
   "metadata": {},
   "outputs": [],
   "source": [
    "#随机获取 k 个质心\n",
    "def Center(data,k):\n",
    "    indexs = np.random.random_integers(0,len(data)-1,k)\n",
    "    centers = []\n",
    "    for index in indexs:\n",
    "        centers.append(data[index])\n",
    "    return centers"
   ]
  },
  {
   "cell_type": "code",
   "execution_count": 23,
   "metadata": {},
   "outputs": [],
   "source": [
    "#欧式距离\n",
    "def Distance(vec1,vec2):\n",
    "    dist = np.sqrt(np.sum(np.square(vec1 - vec2)))\n",
    "    #dist = numpy.linalg.norm(vec1 - vec2)  \n",
    "    return dist"
   ]
  },
  {
   "cell_type": "code",
   "execution_count": 24,
   "metadata": {},
   "outputs": [],
   "source": [
    "#k-means聚类\n",
    "def kmeans(data, k, Distance = Distance, Center = Center):\n",
    "    num = data.shape[0]\n",
    "    #存放该样本属于哪类，及质心距离\n",
    "    clusterAssment = np.mat(np.zeros((num, 2)))\n",
    "    centroids = Center(data,k)\n",
    "    centroids = np.array(centroids)   \n",
    "    centroids = np.array([[ 1.,          0.,          0.,        ],\n",
    "                          [ 0.,         -0.68347619,  0.69753973],\n",
    "                          [ 0.,         -0.74373286, -0.61969235]])\n",
    "    #用于判断是否已经收敛\n",
    "    clusterChanged = True\n",
    " \n",
    "    while clusterChanged:\n",
    "        clusterChanged = False\n",
    "\n",
    "        for i in range(num):\n",
    "            minDist  = 100000\n",
    "            minIndex = -1\n",
    "            \n",
    "            for j in range(k):\n",
    "                distJI = Distance(centroids[j,:], data[i,:])\n",
    "                if distJI < minDist:\n",
    "                    minDist  = distJI\n",
    "                    minIndex = j #如果第i个数据点到第j个中心点更近，则将i划分到j中\n",
    "            \n",
    "            if clusterAssment[i, 0] != minIndex:\n",
    "                    clusterChanged = True\n",
    "                    clusterAssment[i, :] = minIndex, minDist**2 #将第i个数据点的分配情况存入字典\n",
    "        #更新中心点\n",
    "        for center in range(k):\n",
    "            ptsInClust = data[np.nonzero(clusterAssment[:,0].A == center)[0]] #.A将matrix转化为array，nonzero返回=center的下标\n",
    "            centroids[center,:] = np.mean(ptsInClust, axis = 0)\n",
    "    return centroids, clusterAssment        "
   ]
  },
  {
   "cell_type": "code",
   "execution_count": 25,
   "metadata": {},
   "outputs": [],
   "source": [
    "from sklearn.metrics import accuracy_score"
   ]
  },
  {
   "cell_type": "code",
   "execution_count": 26,
   "metadata": {},
   "outputs": [
    {
     "name": "stdout",
     "output_type": "stream",
     "text": [
      "[[ 1.          0.          0.        ]\n",
      " [ 0.         -0.68347619  0.69753973]\n",
      " [ 0.         -0.74373286 -0.61969235]]\n",
      "0.9666666666666667\n"
     ]
    },
    {
     "name": "stderr",
     "output_type": "stream",
     "text": [
      "D:\\anaconda\\lib\\site-packages\\ipykernel_launcher.py:3: DeprecationWarning: This function is deprecated. Please call randint(0, 149 + 1) instead\n",
      "  This is separate from the ipykernel package so we can avoid doing imports until\n"
     ]
    }
   ],
   "source": [
    "for i in range(1):\n",
    "    centroids,clustAssment = kmeans(ksim,3)\n",
    "    a=clustAssment.A[:,0]\n",
    "    print(centroids)\n",
    "    print(accuracy_score(y,a))"
   ]
  },
  {
   "cell_type": "code",
   "execution_count": 27,
   "metadata": {},
   "outputs": [
    {
     "data": {
      "text/plain": [
       "array([0., 0., 0., 0., 0., 0., 0., 0., 0., 0., 0., 0., 0., 0., 0., 0., 0.,\n",
       "       0., 0., 0., 0., 0., 0., 0., 0., 0., 0., 0., 0., 0., 0., 0., 0., 0.,\n",
       "       0., 0., 0., 0., 0., 0., 0., 0., 0., 0., 0., 0., 0., 0., 0., 0., 1.,\n",
       "       1., 1., 1., 1., 1., 1., 1., 1., 1., 1., 1., 1., 1., 1., 1., 2., 1.,\n",
       "       1., 1., 2., 1., 2., 1., 1., 1., 1., 1., 1., 1., 1., 1., 1., 2., 2.,\n",
       "       1., 1., 1., 1., 1., 1., 1., 1., 1., 1., 1., 1., 1., 1., 1., 2., 2.,\n",
       "       2., 2., 2., 2., 2., 2., 2., 2., 2., 2., 2., 2., 2., 2., 2., 2., 2.,\n",
       "       2., 2., 2., 2., 2., 2., 2., 2., 2., 2., 2., 2., 2., 2., 2., 2., 2.,\n",
       "       2., 2., 2., 2., 2., 2., 2., 2., 2., 2., 2., 2., 2., 2.])"
      ]
     },
     "execution_count": 27,
     "metadata": {},
     "output_type": "execute_result"
    }
   ],
   "source": [
    "a"
   ]
  },
  {
   "cell_type": "code",
   "execution_count": 32,
   "metadata": {},
   "outputs": [],
   "source": [
    "node_color=[]\n",
    "node_color0=[]\n",
    "node_color1=[]\n",
    "node_color2=[]\n",
    "for i in range(150):\n",
    "    if(a[i]==0):\n",
    "        color = 'r'\n",
    "        node_color0.append(color)\n",
    "    elif(a[i]==1):\n",
    "        color = 'g'\n",
    "        node_color1.append(color)\n",
    "    else:\n",
    "        color = 'b'\n",
    "        node_color1.append(color)\n",
    "        \n",
    "    node_color.append(color)"
   ]
  },
  {
   "cell_type": "code",
   "execution_count": 33,
   "metadata": {},
   "outputs": [],
   "source": [
    "import networkx as nx"
   ]
  },
  {
   "cell_type": "code",
   "execution_count": 45,
   "metadata": {},
   "outputs": [],
   "source": [
    "Matrix = np.ndarray.tolist(sim)"
   ]
  },
  {
   "cell_type": "code",
   "execution_count": 60,
   "metadata": {},
   "outputs": [
    {
     "data": {
      "image/png": "[encoded data removed]",
      "text/plain": [
       "<matplotlib.figure.Figure at 0x1adaeec6cc0>"
      ]
     },
     "metadata": {},
     "output_type": "display_data"
    }
   ],
   "source": [
    "H = nx.Graph()\n",
    "for i in range(0,150):\n",
    "    for j in range(i,150):\n",
    "        if matrix[i][j]>1.9991:\n",
    "            H.add_edge(i,j)\n",
    "nx.draw(H,node_color=node_color,node_size=100)\n",
    "plt.show()"
   ]
  }
 ],
 "metadata": {
  "kernelspec": {
   "display_name": "Python 3",
   "language": "python",
   "name": "python3"
  },
  "language_info": {
   "codemirror_mode": {
    "name": "ipython",
    "version": 3
   },
   "file_extension": ".py",
   "mimetype": "text/x-python",
   "name": "python",
   "nbconvert_exporter": "python",
   "pygments_lexer": "ipython3",
   "version": "3.6.4"
  }
 },
 "nbformat": 4,
 "nbformat_minor": 2
}
