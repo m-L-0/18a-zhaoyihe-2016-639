{
 "cells": [
  {
   "cell_type": "code",
   "execution_count": 29,
   "metadata": {},
   "outputs": [],
   "source": [
    "import numpy as np\n",
    "import tensorflow as tf"
   ]
  },
  {
   "cell_type": "code",
   "execution_count": 30,
   "metadata": {},
   "outputs": [],
   "source": [
    "(train_data,train_label),(test_data,test_label) = tf.keras.datasets.boston_housing.load_data()"
   ]
  },
  {
   "cell_type": "code",
   "execution_count": 3,
   "metadata": {},
   "outputs": [
    {
     "data": {
      "text/plain": [
       "(404, 13)"
      ]
     },
     "execution_count": 3,
     "metadata": {},
     "output_type": "execute_result"
    }
   ],
   "source": [
    "train_data.shape"
   ]
  },
  {
   "cell_type": "code",
   "execution_count": 4,
   "metadata": {},
   "outputs": [
    {
     "data": {
      "text/plain": [
       "(404,)"
      ]
     },
     "execution_count": 4,
     "metadata": {},
     "output_type": "execute_result"
    }
   ],
   "source": [
    "train_label.shape"
   ]
  },
  {
   "cell_type": "code",
   "execution_count": 5,
   "metadata": {},
   "outputs": [
    {
     "data": {
      "text/plain": [
       "(102, 13)"
      ]
     },
     "execution_count": 5,
     "metadata": {},
     "output_type": "execute_result"
    }
   ],
   "source": [
    "test_data.shape"
   ]
  },
  {
   "cell_type": "code",
   "execution_count": 31,
   "metadata": {},
   "outputs": [],
   "source": [
    "with tf.Graph().as_default() as g:\n",
    "    inputs = tf.placeholder(shape=[None,13],dtype=tf.float32)\n",
    "    labels = tf.placeholder(shape=[None],dtype=tf.float32)\n",
    "    \n",
    "    h1 = tf.keras.layers.Dense(64,activation=tf.nn.relu)(inputs)\n",
    "    h2 = tf.keras.layers.Dense(16,activation=tf.nn.relu)(h1)\n",
    "    output = tf.keras.layers.Dense(1,activation=None)(h2)\n",
    "    \n",
    "    loss = tf.reduce_mean(tf.keras.losses.mean_squared_error(labels,output))\n",
    "    tf.summary.scalar('loss',loss)\n",
    "    optim = tf.train.GradientDescentOptimizer(learning_rate=1e-6)\n",
    "    train_op = optim.minimize(loss)"
   ]
  },
  {
   "cell_type": "code",
   "execution_count": 14,
   "metadata": {},
   "outputs": [
    {
     "name": "stdout",
     "output_type": "stream",
     "text": [
      "epoch   0, train loss 255.1553, val loss 257.9813, loss 162.6088\n",
      "epoch   1, train loss 153.7809, val loss 154.4050, loss 131.5609\n",
      "epoch   2, train loss 113.7969, val loss 128.1715, loss 124.3778\n",
      "epoch   3, train loss 172.6913, val loss 121.3705, loss 110.9795\n",
      "epoch   4, train loss 117.6030, val loss 114.7000, loss 105.7514\n",
      "epoch   5, train loss 102.4182, val loss 111.2030, loss 102.6696\n",
      "epoch   6, train loss 82.3932, val loss 105.1139, loss 103.8702\n",
      "epoch   7, train loss 91.0883, val loss 102.0068, loss 110.0060\n",
      "epoch   8, train loss 27.4587, val loss 101.3465, loss 97.4017\n",
      "epoch   9, train loss 98.2734, val loss 98.6047, loss 96.7324\n",
      "epoch  10, train loss 112.3463, val loss 102.7644, loss 94.6648\n",
      "epoch  11, train loss 109.9982, val loss 100.8720, loss 93.9002\n",
      "epoch  12, train loss 148.2055, val loss 98.5412, loss 93.5537\n",
      "epoch  13, train loss 105.1678, val loss 94.2609, loss 94.5595\n",
      "epoch  14, train loss 59.9131, val loss 96.2399, loss 98.4352\n",
      "epoch  15, train loss 105.1605, val loss 99.8092, loss 92.2812\n",
      "epoch  16, train loss 99.8096, val loss 94.4493, loss 92.4890\n",
      "epoch  17, train loss 71.8394, val loss 88.2355, loss 97.1506\n",
      "epoch  18, train loss 98.1828, val loss 96.5226, loss 92.0946\n",
      "epoch  19, train loss 120.1898, val loss 94.0697, loss 90.7068\n",
      "epoch  20, train loss 99.5549, val loss 94.8842, loss 92.0569\n",
      "epoch  21, train loss 90.8102, val loss 99.9453, loss 92.4789\n",
      "epoch  22, train loss 101.5128, val loss 87.2720, loss 90.1556\n",
      "epoch  23, train loss 119.5658, val loss 92.2709, loss 92.7294\n",
      "epoch  24, train loss 125.0384, val loss 95.2358, loss 92.2987\n",
      "epoch  25, train loss 116.1711, val loss 90.7542, loss 89.5359\n",
      "epoch  26, train loss 75.5550, val loss 88.1380, loss 93.0969\n",
      "epoch  27, train loss 108.1027, val loss 92.0487, loss 89.2232\n",
      "epoch  28, train loss 61.4444, val loss 92.9916, loss 94.2937\n",
      "epoch  29, train loss 88.9611, val loss 94.5837, loss 89.9388\n",
      "epoch  30, train loss 72.8399, val loss 91.1630, loss 90.0823\n",
      "epoch  31, train loss 67.4482, val loss 91.3007, loss 91.6943\n",
      "epoch  32, train loss 66.5132, val loss 95.6194, loss 88.7421\n",
      "epoch  33, train loss 123.1549, val loss 89.7981, loss 88.6562\n",
      "epoch  34, train loss 98.4293, val loss 91.9197, loss 88.9721\n",
      "epoch  35, train loss 110.7513, val loss 89.2005, loss 90.0895\n",
      "epoch  36, train loss 94.9702, val loss 88.9309, loss 89.4417\n",
      "epoch  37, train loss 75.4329, val loss 91.6597, loss 88.6182\n",
      "epoch  38, train loss 118.8196, val loss 86.7684, loss 88.5295\n",
      "epoch  39, train loss 97.2669, val loss 88.5239, loss 88.2939\n",
      "epoch  40, train loss 93.7040, val loss 92.5907, loss 88.3267\n",
      "epoch  41, train loss 121.6157, val loss 89.7580, loss 91.5244\n",
      "epoch  42, train loss 38.7744, val loss 91.6217, loss 89.2965\n",
      "epoch  43, train loss 77.3932, val loss 92.6211, loss 87.7596\n",
      "epoch  44, train loss 65.6899, val loss 93.3187, loss 89.0720\n",
      "epoch  45, train loss 117.4583, val loss 92.3972, loss 89.9848\n",
      "epoch  46, train loss 95.5465, val loss 84.5869, loss 87.8311\n",
      "epoch  47, train loss 104.9811, val loss 90.3642, loss 89.2087\n",
      "epoch  48, train loss 65.5375, val loss 88.5440, loss 87.9320\n",
      "epoch  49, train loss 77.5614, val loss 91.4024, loss 88.3730\n",
      "epoch  50, train loss 118.9533, val loss 83.8651, loss 87.4895\n",
      "epoch  51, train loss 50.2832, val loss 89.3779, loss 94.0033\n",
      "epoch  52, train loss 118.1295, val loss 91.3807, loss 87.3198\n",
      "epoch  53, train loss 81.8083, val loss 90.0213, loss 90.8417\n",
      "epoch  54, train loss 99.0696, val loss 89.6618, loss 87.3801\n",
      "epoch  55, train loss 70.7029, val loss 90.0799, loss 88.9798\n",
      "epoch  56, train loss 97.2204, val loss 90.1321, loss 88.1140\n",
      "epoch  57, train loss 97.0255, val loss 89.5858, loss 89.7738\n",
      "epoch  58, train loss 87.2255, val loss 93.2423, loss 88.8844\n",
      "epoch  59, train loss 162.7963, val loss 90.4180, loss 86.9584\n",
      "epoch  60, train loss 84.2670, val loss 89.4789, loss 87.6653\n",
      "epoch  61, train loss 79.8497, val loss 94.3117, loss 87.0694\n",
      "epoch  62, train loss 41.3449, val loss 88.4946, loss 92.5390\n",
      "epoch  63, train loss 57.4896, val loss 86.6964, loss 97.3560\n",
      "epoch  64, train loss 125.2073, val loss 89.4744, loss 88.1846\n",
      "epoch  65, train loss 87.4924, val loss 87.2703, loss 93.4794\n",
      "epoch  66, train loss 73.5077, val loss 90.6881, loss 88.3563\n",
      "epoch  67, train loss 104.7450, val loss 89.8370, loss 86.6306\n",
      "epoch  68, train loss 71.9711, val loss 90.1472, loss 92.8754\n",
      "epoch  69, train loss 53.6158, val loss 89.9378, loss 91.1405\n",
      "epoch  70, train loss 58.7537, val loss 87.4763, loss 87.9262\n",
      "epoch  71, train loss 77.1114, val loss 89.4455, loss 90.8908\n",
      "epoch  72, train loss 55.9112, val loss 90.0062, loss 88.9647\n",
      "epoch  73, train loss 83.1431, val loss 90.8496, loss 88.4195\n",
      "epoch  74, train loss 103.1940, val loss 92.2028, loss 87.0633\n",
      "epoch  75, train loss 116.6791, val loss 91.6591, loss 86.8339\n",
      "epoch  76, train loss 92.6785, val loss 89.9303, loss 86.4415\n",
      "epoch  77, train loss 56.6739, val loss 88.9986, loss 99.8507\n",
      "epoch  78, train loss 134.6284, val loss 90.1342, loss 86.8346\n",
      "epoch  79, train loss 40.7299, val loss 85.9276, loss 89.2360\n",
      "epoch  80, train loss 83.0145, val loss 90.4416, loss 88.5876\n",
      "epoch  81, train loss 49.8946, val loss 89.1858, loss 88.4994\n",
      "epoch  82, train loss 47.9827, val loss 87.9947, loss 90.1971\n",
      "epoch  83, train loss 88.3066, val loss 87.2883, loss 86.7821\n",
      "epoch  84, train loss 48.7837, val loss 91.0753, loss 87.7501\n",
      "epoch  85, train loss 59.8822, val loss 88.9308, loss 91.6760\n",
      "epoch  86, train loss 139.2754, val loss 86.6262, loss 86.1254\n",
      "epoch  87, train loss 117.2671, val loss 88.6988, loss 86.3751\n",
      "epoch  88, train loss 78.1247, val loss 92.0789, loss 90.7355\n",
      "epoch  89, train loss 76.3103, val loss 89.6159, loss 86.0926\n",
      "epoch  90, train loss 60.1187, val loss 85.5219, loss 88.7489\n",
      "epoch  91, train loss 113.6063, val loss 91.3716, loss 86.7054\n",
      "epoch  92, train loss 62.5044, val loss 89.4119, loss 93.8370\n",
      "epoch  93, train loss 77.2202, val loss 84.2632, loss 97.9144\n",
      "epoch  94, train loss 136.8756, val loss 92.6748, loss 86.4496\n",
      "epoch  95, train loss 81.6747, val loss 88.7781, loss 85.9470\n",
      "epoch  96, train loss 74.9891, val loss 88.4597, loss 87.7039\n",
      "epoch  97, train loss 124.1155, val loss 90.2714, loss 85.9059\n",
      "epoch  98, train loss 145.0611, val loss 85.2526, loss 85.9927\n",
      "epoch  99, train loss 92.9995, val loss 89.5329, loss 86.2532\n",
      "epoch 100, train loss 110.6817, val loss 87.5134, loss 86.7748\n",
      "epoch 101, train loss 112.5958, val loss 87.3249, loss 86.0128\n",
      "epoch 102, train loss 95.4724, val loss 87.4606, loss 87.7379\n",
      "epoch 103, train loss 95.6113, val loss 86.5886, loss 86.1040\n",
      "epoch 104, train loss 74.1213, val loss 85.0839, loss 86.4843\n",
      "epoch 105, train loss 115.6069, val loss 87.6791, loss 86.5828\n",
      "epoch 106, train loss 102.7341, val loss 87.0250, loss 88.2318\n",
      "epoch 107, train loss 149.4918, val loss 90.2065, loss 89.4256\n",
      "epoch 108, train loss 73.5909, val loss 88.7616, loss 86.8150\n",
      "epoch 109, train loss 130.2546, val loss 90.3668, loss 85.7632\n",
      "epoch 110, train loss 105.7165, val loss 88.2785, loss 85.9096\n",
      "epoch 111, train loss 79.9122, val loss 86.7269, loss 85.7166\n",
      "epoch 112, train loss 86.4870, val loss 87.1192, loss 87.2563\n",
      "epoch 113, train loss 76.7217, val loss 89.9912, loss 86.4935\n",
      "epoch 114, train loss 71.5784, val loss 88.7300, loss 91.2654\n",
      "epoch 115, train loss 101.4826, val loss 89.7249, loss 87.1738\n",
      "epoch 116, train loss 64.6962, val loss 89.7263, loss 89.8050\n",
      "epoch 117, train loss 104.0354, val loss 87.1289, loss 85.6464\n",
      "epoch 118, train loss 106.6959, val loss 89.3004, loss 85.8060\n",
      "epoch 119, train loss 84.3393, val loss 87.4142, loss 85.7628\n",
      "epoch 120, train loss 67.1533, val loss 85.9216, loss 87.8163\n",
      "epoch 121, train loss 69.6208, val loss 90.6637, loss 85.8022\n",
      "epoch 122, train loss 72.1414, val loss 87.0686, loss 90.7902\n",
      "epoch 123, train loss 74.1538, val loss 87.9217, loss 88.4195\n",
      "epoch 124, train loss 71.4284, val loss 89.4912, loss 85.9709\n",
      "epoch 125, train loss 129.3852, val loss 87.6594, loss 86.3813\n",
      "epoch 126, train loss 85.6016, val loss 89.8529, loss 88.8805\n",
      "epoch 127, train loss 37.0065, val loss 88.5459, loss 93.6831\n",
      "epoch 128, train loss 107.5367, val loss 83.4162, loss 85.5447\n",
      "epoch 129, train loss 89.2641, val loss 89.8540, loss 88.4392\n",
      "epoch 130, train loss 108.6078, val loss 85.7982, loss 86.3592\n",
      "epoch 131, train loss 78.6695, val loss 90.4850, loss 87.2370\n",
      "epoch 132, train loss 96.5309, val loss 88.6314, loss 85.9993\n",
      "epoch 133, train loss 78.5431, val loss 89.8070, loss 94.2169\n",
      "epoch 134, train loss 83.7140, val loss 88.6426, loss 87.8905\n",
      "epoch 135, train loss 98.2961, val loss 88.3208, loss 87.7213\n",
      "epoch 136, train loss 66.1749, val loss 91.4007, loss 85.8197\n",
      "epoch 137, train loss 125.3645, val loss 82.2890, loss 86.2209\n",
      "epoch 138, train loss 100.4893, val loss 90.9771, loss 98.4116\n",
      "epoch 139, train loss 121.8696, val loss 90.6296, loss 85.5549\n",
      "epoch 140, train loss 106.7034, val loss 88.2182, loss 86.6924\n",
      "epoch 141, train loss 113.2059, val loss 86.8636, loss 85.5017\n",
      "epoch 142, train loss 94.3849, val loss 88.8939, loss 85.7883\n",
      "epoch 143, train loss 131.5812, val loss 91.3913, loss 85.6792\n",
      "epoch 144, train loss 87.2038, val loss 89.5196, loss 85.6053\n",
      "epoch 145, train loss 61.0783, val loss 85.6991, loss 91.9194\n",
      "epoch 146, train loss 65.4466, val loss 84.4405, loss 85.8321\n",
      "epoch 147, train loss 116.5359, val loss 86.9088, loss 87.3085\n",
      "epoch 148, train loss 63.9250, val loss 87.6648, loss 86.5880\n",
      "epoch 149, train loss 32.3199, val loss 85.7779, loss 98.9734\n",
      "epoch 150, train loss 143.3553, val loss 92.8931, loss 87.8406\n",
      "epoch 151, train loss 71.0067, val loss 87.8641, loss 86.2491\n",
      "epoch 152, train loss 125.2690, val loss 88.0541, loss 85.4468\n",
      "epoch 153, train loss 135.1231, val loss 86.9074, loss 85.8854\n",
      "epoch 154, train loss 69.4211, val loss 86.0061, loss 99.4213\n",
      "epoch 155, train loss 54.1267, val loss 90.6052, loss 86.2630\n",
      "epoch 156, train loss 87.7325, val loss 84.6982, loss 92.2059\n",
      "epoch 157, train loss 63.9755, val loss 90.2694, loss 88.3786\n",
      "epoch 158, train loss 102.4080, val loss 90.1400, loss 85.9947\n",
      "epoch 159, train loss 67.1075, val loss 87.4649, loss 89.1691\n",
      "epoch 160, train loss 93.6702, val loss 92.4027, loss 85.7582\n"
     ]
    },
    {
     "name": "stdout",
     "output_type": "stream",
     "text": [
      "epoch 161, train loss 90.5464, val loss 89.0249, loss 85.9661\n",
      "epoch 162, train loss 91.7636, val loss 92.2586, loss 86.9985\n",
      "epoch 163, train loss 90.6414, val loss 85.3043, loss 86.1163\n",
      "epoch 164, train loss 40.9043, val loss 91.8314, loss 90.7786\n",
      "epoch 165, train loss 137.7241, val loss 90.5060, loss 85.4275\n",
      "epoch 166, train loss 53.3797, val loss 87.7277, loss 86.9412\n",
      "epoch 167, train loss 79.3935, val loss 87.0290, loss 85.5152\n",
      "epoch 168, train loss 74.0911, val loss 89.7394, loss 85.4043\n",
      "epoch 169, train loss 64.5365, val loss 86.6845, loss 89.6142\n",
      "epoch 170, train loss 106.6578, val loss 91.9234, loss 85.5599\n",
      "epoch 171, train loss 100.3572, val loss 86.5437, loss 86.2584\n",
      "epoch 172, train loss 51.2879, val loss 86.3171, loss 85.8385\n",
      "epoch 173, train loss 138.5065, val loss 90.1474, loss 88.1467\n",
      "epoch 174, train loss 60.9505, val loss 85.8171, loss 87.3999\n",
      "epoch 175, train loss 89.9266, val loss 89.8104, loss 85.3855\n",
      "epoch 176, train loss 66.4302, val loss 87.7165, loss 86.2795\n",
      "epoch 177, train loss 143.2868, val loss 91.0842, loss 85.8242\n",
      "epoch 178, train loss 104.2797, val loss 90.3190, loss 85.5909\n",
      "epoch 179, train loss 137.4363, val loss 85.9398, loss 85.8763\n",
      "epoch 180, train loss 133.4993, val loss 86.4904, loss 86.0995\n",
      "epoch 181, train loss 71.4010, val loss 90.0630, loss 85.3370\n",
      "epoch 182, train loss 38.9548, val loss 86.6838, loss 87.3357\n",
      "epoch 183, train loss 82.2328, val loss 86.7567, loss 86.0786\n",
      "epoch 184, train loss 85.7576, val loss 88.5804, loss 85.8180\n",
      "epoch 185, train loss 90.8422, val loss 85.7638, loss 85.3689\n",
      "epoch 186, train loss 100.5562, val loss 87.9934, loss 85.9099\n",
      "epoch 187, train loss 103.0878, val loss 87.5326, loss 87.1388\n",
      "epoch 188, train loss 116.4554, val loss 89.8804, loss 85.9871\n",
      "epoch 189, train loss 96.0278, val loss 90.7371, loss 86.6662\n",
      "epoch 190, train loss 106.4904, val loss 90.8371, loss 85.2919\n",
      "epoch 191, train loss 127.1814, val loss 88.4729, loss 86.5280\n",
      "epoch 192, train loss 79.1357, val loss 90.5992, loss 85.7268\n",
      "epoch 193, train loss 69.5919, val loss 92.9789, loss 90.5872\n",
      "epoch 194, train loss 87.8020, val loss 89.0904, loss 85.3875\n",
      "epoch 195, train loss 79.0323, val loss 89.0616, loss 85.2866\n",
      "epoch 196, train loss 73.9550, val loss 85.8307, loss 86.1425\n",
      "epoch 197, train loss 131.4708, val loss 88.5801, loss 85.2651\n",
      "epoch 198, train loss 101.5483, val loss 88.1794, loss 85.2601\n",
      "epoch 199, train loss 84.0942, val loss 87.1575, loss 86.8786\n"
     ]
    }
   ],
   "source": [
    "with tf.Session(graph=g) as sess:\n",
    "    train_writer = tf.summary.FileWriter('/')\n",
    "    \n",
    "    sess.run(tf.global_variables_initializer())\n",
    "    batch_size = 32\n",
    "    for epoch in range(200):\n",
    "        order = np.argsort(np.random.random(train_label.shape))\n",
    "        train_data = train_data[order]\n",
    "        train_label = train_label[order]\n",
    "        \n",
    "        res_train_losses = []\n",
    "        for i in range(train_label.shape[0] // batch_size):\n",
    "            start = i * batch_size\n",
    "            end = (i+1) * batch_size\n",
    "            res_train_loss,_ = sess.run([loss,train_op],\n",
    "                                         feed_dict={inputs:train_data[start:end],\n",
    "                                                   labels:train_label[start:end]})\n",
    "            res_train_losses.append(res_train_loss)\n",
    "        res_val_loss = sess.run(loss,\n",
    "                               feed_dict={inputs:test_data,\n",
    "                                         labels:test_label})\n",
    "        print('epoch %3d, train loss %2.4f, val loss %2.4f, loss %3.4f' %\n",
    "             (epoch, res_train_loss, np.mean(res_train_losses),res_val_loss))"
   ]
  },
  {
   "cell_type": "code",
   "execution_count": 26,
   "metadata": {},
   "outputs": [],
   "source": []
  },
  {
   "cell_type": "code",
   "execution_count": null,
   "metadata": {},
   "outputs": [],
   "source": []
  }
 ],
 "metadata": {
  "kernelspec": {
   "display_name": "Python 3",
   "language": "python",
   "name": "python3"
  },
  "language_info": {
   "codemirror_mode": {
    "name": "ipython",
    "version": 3
   },
   "file_extension": ".py",
   "mimetype": "text/x-python",
   "name": "python",
   "nbconvert_exporter": "python",
   "pygments_lexer": "ipython3",
   "version": "3.6.4"
  }
 },
 "nbformat": 4,
 "nbformat_minor": 2
}
