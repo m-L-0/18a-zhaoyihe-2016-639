{
 "cells": [
  {
   "cell_type": "code",
   "execution_count": 7,
   "metadata": {},
   "outputs": [
    {
     "name": "stdout",
     "output_type": "stream",
     "text": [
      "3\n",
      "-----\n",
      "3\n"
     ]
    }
   ],
   "source": [
    "#构建一张图，实现两个数的加法操作，并在两个不同的会话中执行图。\n",
    "import tensorflow as tf\n",
    "with tf.Graph().as_default() as g:\n",
    "    x = 1\n",
    "    y = 2\n",
    "    z = tf.add(x,y)\n",
    "with tf.Session(graph=g) as sess:\n",
    "    res = sess.run(z)\n",
    "    print(res)\n",
    "print('-----')\n",
    "with tf.Session(graph=g) as sess1:\n",
    "    res=sess1.run(z)\n",
    "    print(res)"
   ]
  },
  {
   "cell_type": "code",
   "execution_count": 23,
   "metadata": {},
   "outputs": [
    {
     "name": "stdout",
     "output_type": "stream",
     "text": [
      "5\n",
      "----------\n",
      "6\n",
      "----------\n",
      "-1\n",
      "----------\n",
      "8\n"
     ]
    }
   ],
   "source": [
    "#学习TensorFlow中执行常量基本运算API的基本用法\n",
    "import tensorflow as tf\n",
    "x = 2\n",
    "y = 3\n",
    "\n",
    "add_op = tf.add(x, y)   #x+y\n",
    "mul_op = tf.multiply(x, y)   #x*y\n",
    "sub_op = tf.subtract(x, y)   #x-y\n",
    "pow_op = tf.pow(x,y)#pow幂值计算\n",
    "\n",
    "#tf.divide 浮点除法, 返回浮点数，必须返回张量\n",
    "#tf.mod(x,y)   取余\n",
    "#tf.square(x)  平方\n",
    "#tf.sqrt(x)  开根号，必须传入浮点数或复数\n",
    "\n",
    "with tf.Session() as sess:\n",
    "    res1, res2, res3, res4 = sess.run([add_op, mul_op, sub_op, pow_op])\n",
    "    print(res1)\n",
    "    print('----------')\n",
    "    print(res2)\n",
    "    print('----------')\n",
    "    print(res3)\n",
    "    print('----------')\n",
    "    print(res4)\n",
    "\n",
    "    "
   ]
  },
  {
   "cell_type": "code",
   "execution_count": 4,
   "metadata": {},
   "outputs": [
    {
     "name": "stdout",
     "output_type": "stream",
     "text": [
      "2.0\n"
     ]
    }
   ],
   "source": [
    "import tensorflow as tf\n",
    "x=6\n",
    "y=3\n",
    "a=tf.divide(x,y)\n",
    "with tf.Session() as sess:\n",
    "    print(a)"
   ]
  }
 ],
 "metadata": {
  "kernelspec": {
   "display_name": "Python 3",
   "language": "python",
   "name": "python3"
  },
  "language_info": {
   "codemirror_mode": {
    "name": "ipython",
    "version": 3
   },
   "file_extension": ".py",
   "mimetype": "text/x-python",
   "name": "python",
   "nbconvert_exporter": "python",
   "pygments_lexer": "ipython3",
   "version": "3.5.2"
  }
 },
 "nbformat": 4,
 "nbformat_minor": 2
}
