{
 "cells": [
  {
   "cell_type": "code",
   "execution_count": 4,
   "metadata": {},
   "outputs": [
    {
     "name": "stdout",
     "output_type": "stream",
     "text": [
      "[-3.9808257 13.223075 ]\n"
     ]
    }
   ],
   "source": [
    "import tensorflow as tf\n",
    "w1 = tf.Variable(tf.random_normal([2]))\n",
    "w2 = tf.Variable(tf.random_normal([2]))\n",
    "b = tf.Variable(tf.random_normal([2]))\n",
    "x1 = tf.placeholder(dtype=tf.float32)\n",
    "x2 = tf.placeholder(dtype=tf.float32)\n",
    "y = w1*x1 + w2*x2 + b\n",
    "with tf.Session() as sess:\n",
    "    sess.run(tf.global_variables_initializer())\n",
    "    print(sess.run(y,feed_dict={x1:[5,4],x2:[10,8]}))"
   ]
  },
  {
   "cell_type": "markdown",
   "metadata": {},
   "source": [
    "Variable：主要是用于训练变量之类的。比如我们经常使用的网络权重，偏置。\n",
    "值得注意的是Variable在声明是必须赋予初始值。在训练过程中该值很可能会进行不断的加减操作变化。\n",
    "名称的真实含义，在于变量，也即在真实训练时，其值是会改变的，自然事先需要指定初始值；\n",
    "\n",
    "placeholder:也是用于存储数据，但是主要用于feed_dict的配合，\n",
    "接收输入数据用于训练模型等。placeholder值在训练过程中会不断地被赋予新的值，\n",
    "用于批训练，基本上其值是不会轻易进行加减操作。\n",
    "\n",
    "placeholder在命名时是不会需要赋予值得，其被赋予值得时间实在feed_dict时。\n",
    "其命名的原因所在，仅仅作为一种占位符；\n",
    "\n",
    "tf.placeholder(dtype, shape=None, name=None)\n",
    "此函数可以理解为形参，用于定义过程，在执行的时候再赋具体的值"
   ]
  }
 ],
 "metadata": {
  "kernelspec": {
   "display_name": "Python 3",
   "language": "python",
   "name": "python3"
  },
  "language_info": {
   "codemirror_mode": {
    "name": "ipython",
    "version": 3
   },
   "file_extension": ".py",
   "mimetype": "text/x-python",
   "name": "python",
   "nbconvert_exporter": "python",
   "pygments_lexer": "ipython3",
   "version": "3.5.2"
  }
 },
 "nbformat": 4,
 "nbformat_minor": 2
}
