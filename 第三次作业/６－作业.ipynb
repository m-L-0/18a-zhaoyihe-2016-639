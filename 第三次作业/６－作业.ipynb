{
 "cells": [
  {
   "cell_type": "code",
   "execution_count": 11,
   "metadata": {},
   "outputs": [
    {
     "name": "stdout",
     "output_type": "stream",
     "text": [
      "[4 3]\n"
     ]
    }
   ],
   "source": [
    "import tensorflow as tf\n",
    "import tensorflow.contrib.autograph as ag\n",
    "@ag.convert()\n",
    "\n",
    "def max_op(x1,x2):\n",
    "    b=tf.where(tf.less_equal(x1,x2),x2,x1)\n",
    "    return b\n",
    "x1=tf.constant([2,3])\n",
    "x2=tf.constant([4,2])\n",
    "x=max_op(x1,x2)\n",
    "with tf.Session() as sess:\n",
    "    print(sess.run(x))"
   ]
  },
  {
   "cell_type": "markdown",
   "metadata": {},
   "source": [
    "tf.maximum 函数"
   ]
  },
  {
   "cell_type": "markdown",
   "metadata": {},
   "source": [
    "maximum(\n",
    "    x,\n",
    "    y,\n",
    "    name=None\n",
    ")\n",
    "返回 x 和 y 的最大值（即表达式：x > y ? x : y）。"
   ]
  },
  {
   "cell_type": "markdown",
   "metadata": {},
   "source": [
    "参数：\n",
    "    x：张量。必须是下列类型之一：half，float32，float64，int32，int64。\n",
    "    y：张量。必须与 x 具有相同的类型。\n",
    "    name：操作的名称（可选）。\n",
    "\n",
    "返回值：\n",
    "该函数将返回一个张量并且与 x 具有相同的类型。"
   ]
  },
  {
   "cell_type": "code",
   "execution_count": null,
   "metadata": {},
   "outputs": [],
   "source": []
  },
  {
   "cell_type": "markdown",
   "metadata": {},
   "source": [
    "tf.minimum 函数"
   ]
  },
  {
   "cell_type": "markdown",
   "metadata": {},
   "source": [
    "minimum(\n",
    "    x,\n",
    "    y,\n",
    "    name=None\n",
    ")\n",
    "返回 x 和 y 的最小值（即表达式：x < y ? x : y）"
   ]
  },
  {
   "cell_type": "markdown",
   "metadata": {},
   "source": [
    "参数：\n",
    "    x：张量。必须是下列类型之一：half，float32，float64，int32，int64。\n",
    "    y：张量。必须与 x 具有相同的类型。\n",
    "    name：操作的名称（可选）。\n",
    "返回值：\n",
    "该函数将返回一个张量并且与 x 具有相同的类型。 "
   ]
  },
  {
   "cell_type": "code",
   "execution_count": 13,
   "metadata": {},
   "outputs": [
    {
     "name": "stdout",
     "output_type": "stream",
     "text": [
      "[ 2 23  4]\n",
      "[1 3 3]\n"
     ]
    }
   ],
   "source": [
    "import tensorflow as tf\n",
    "x1=tf.constant([1,23,3])\n",
    "x2=tf.constant([2,3,4])\n",
    "max_1=tf.maximum(x1,x2)\n",
    "min_1=tf.minimum(x1,x2)\n",
    "with tf.Session() as sess:\n",
    "    print(sess.run(max_1))\n",
    "    print(sess.run(min_1))"
   ]
  },
  {
   "cell_type": "code",
   "execution_count": null,
   "metadata": {},
   "outputs": [],
   "source": []
  },
  {
   "cell_type": "code",
   "execution_count": 19,
   "metadata": {},
   "outputs": [
    {
     "name": "stdout",
     "output_type": "stream",
     "text": [
      "3\n",
      "[[2.4 3.5]\n",
      " [2.4 3.5]\n",
      " [2.4 3.5]]\n"
     ]
    }
   ],
   "source": [
    "import tensorflow as tf \n",
    "def cond(time, output_ta_l):\n",
    "    return tf.less(time, 3)\n",
    "def body(time, output_ta_l):\n",
    "    output_ta_l = output_ta_l.write(time, [2.4, 3.5])\n",
    "    return time + 1, output_ta_l \n",
    "time = tf.constant(0) \n",
    "output_ta = tf.TensorArray(dtype=tf.float32, size=1, dynamic_size=True) \n",
    "\n",
    "last_time, last_out = tf.while_loop(cond, body, loop_vars=[time, output_ta]) \n",
    "\n",
    "final_out = last_out.stack() \n",
    "with tf.Session() as sess:\n",
    "    print(sess.run(last_time))\n",
    "    print(sess.run(final_out))"
   ]
  },
  {
   "cell_type": "markdown",
   "metadata": {},
   "source": [
    "ta.stack(name=None) 将TensorArray中元素叠起来当做一个Tensor输出"
   ]
  }
 ],
 "metadata": {
  "kernelspec": {
   "display_name": "Python 3",
   "language": "python",
   "name": "python3"
  },
  "language_info": {
   "codemirror_mode": {
    "name": "ipython",
    "version": 3
   },
   "file_extension": ".py",
   "mimetype": "text/x-python",
   "name": "python",
   "nbconvert_exporter": "python",
   "pygments_lexer": "ipython3",
   "version": "3.5.2"
  }
 },
 "nbformat": 4,
 "nbformat_minor": 2
}
